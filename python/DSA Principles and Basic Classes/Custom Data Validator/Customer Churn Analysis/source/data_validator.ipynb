{
 "cells": [
  {
   "cell_type": "markdown",
   "id": "a8e34bcf",
   "metadata": {},
   "source": [
    "# **Customer Data Validator/Cleaner for Churn Analysis**"
   ]
  },
  {
   "cell_type": "markdown",
   "id": "95732b35",
   "metadata": {},
   "source": [
    "## import & download kaggle dataset for Churn Analysis"
   ]
  },
  {
   "cell_type": "code",
   "execution_count": 3,
   "id": "ba9e76d0",
   "metadata": {},
   "outputs": [
    {
     "name": "stdout",
     "output_type": "stream",
     "text": [
      "[{\"ref\": \"\", \"datasetRef\": \"\", \"ownerRef\": \"\", \"name\": \"Telco_customer_churn.xlsx\", \"creationDate\": \"2024-10-11T05:27:56.446Z\", \"description\": \"\", \"fileType\": \"\", \"url\": \"\", \"totalBytes\": 1368250, \"columns\": []}]\n",
      "Dataset URL: https://www.kaggle.com/datasets/abdallahwagih/telco-customer-churn\n"
     ]
    },
    {
     "data": {
      "text/plain": [
       "'D:\\\\GitHub Projects\\\\Tutorials\\\\python\\\\DSA Principles and Basic Classes\\\\Custom Data Validator\\\\Customer Churn Analysis\\\\data\\\\dataset-metadata.json'"
      ]
     },
     "execution_count": 3,
     "metadata": {},
     "output_type": "execute_result"
    }
   ],
   "source": [
    "import kaggle\n",
    "\n",
    "print(kaggle.api.dataset_list_files('abdallahwagih/telco-customer-churn').files)\n",
    "\n",
    "kaggle.api.authenticate()\n",
    "kaggle.api.dataset_download_files('abdallahwagih/telco-customer-churn', path=r'D:\\GitHub Projects\\Tutorials\\python\\DSA Principles and Basic Classes\\Custom Data Validator\\Customer Churn Analysis\\data', unzip=True)\n",
    "kaggle.api.dataset_metadata('abdallahwagih/telco-customer-churn', path=r'D:\\GitHub Projects\\Tutorials\\python\\DSA Principles and Basic Classes\\Custom Data Validator\\Customer Churn Analysis\\data')"
   ]
  },
  {
   "cell_type": "markdown",
   "id": "0d4e2ae1",
   "metadata": {},
   "source": [
    "## Explore the dataset for early evaluation"
   ]
  },
  {
   "cell_type": "code",
   "execution_count": null,
   "id": "ddb8ee4f",
   "metadata": {},
   "outputs": [],
   "source": []
  },
  {
   "cell_type": "markdown",
   "id": "e6147cc6",
   "metadata": {},
   "source": [
    "## Create a validator class to work with this dataset"
   ]
  },
  {
   "cell_type": "code",
   "execution_count": null,
   "id": "71eef219",
   "metadata": {},
   "outputs": [],
   "source": []
  }
 ],
 "metadata": {
  "kernelspec": {
   "display_name": "Python 3",
   "language": "python",
   "name": "python3"
  },
  "language_info": {
   "codemirror_mode": {
    "name": "ipython",
    "version": 3
   },
   "file_extension": ".py",
   "mimetype": "text/x-python",
   "name": "python",
   "nbconvert_exporter": "python",
   "pygments_lexer": "ipython3",
   "version": "3.13.3"
  }
 },
 "nbformat": 4,
 "nbformat_minor": 5
}
